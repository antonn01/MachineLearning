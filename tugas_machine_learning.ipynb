{
  "cells": [
    {
      "cell_type": "markdown",
      "metadata": {
        "id": "D9xo8L27_3cA"
      },
      "source": [
        "# TUGAS : MACHINE LEARNING\n",
        "# Nama : Anton Nurfendi\n",
        "# Nim  : 20210801242"
      ]
    },
    {
      "cell_type": "markdown",
      "metadata": {
        "id": "kIsSxJI6_3cG"
      },
      "source": [
        "# SOAL 1\n",
        "Buatlah identitas diri menggunakan pemograman python sederhana\n"
      ]
    },
    {
      "cell_type": "code",
      "execution_count": 2,
      "metadata": {
        "colab": {
          "base_uri": "https://localhost:8080/"
        },
        "id": "k_Livoq7_3cI",
        "outputId": "dc87eae1-1db9-45f8-e354-be6b6fe2ca9a"
      },
      "outputs": [
        {
          "output_type": "stream",
          "name": "stdout",
          "text": [
            "DATA DIRI\n",
            "Nama        :  Anton Nurfendi\n",
            "Nim         :  20210801242\n",
            "Mata kuliah :  Machine Learning\n"
          ]
        }
      ],
      "source": [
        "#jawaban soal 1\n",
        "nama_nahasiswa = \"Anton Nurfendi\"\n",
        "nim_mahasiswa = \"20210801242\"\n",
        "mata_kuliah = \"Machine Learning\"\n",
        "\n",
        "print(\"DATA DIRI\")\n",
        "print(\"Nama        : \", nama_nahasiswa)\n",
        "print(\"Nim         : \", nim_mahasiswa)\n",
        "print(\"Mata kuliah : \", mata_kuliah)"
      ]
    },
    {
      "cell_type": "markdown",
      "metadata": {
        "id": "KClbxkC__3cL"
      },
      "source": [
        "# SOAL 2\n",
        "Buatlah matriksC dengan orde 2x3, dan nilai yang diberikan pada matriksC adalah sebagai berikut:\n",
        "- Baris 1 Kolom 1, nilai = 1\n",
        "- Baris 1 Kolom 2, nilai = 2\n",
        "- Baris 1 Kolom 3, nilai = 3\n",
        "- Baris 2 Kolom 1, nilai = 4\n",
        "- Baris 2 Kolom 2, nilai = 5\n",
        "- Baris 2 Kolom 3, nilai = 6"
      ]
    },
    {
      "cell_type": "code",
      "execution_count": null,
      "metadata": {
        "id": "zCattNkF_3cM",
        "outputId": "09021524-2b88-412f-85fe-d93e29460ae5"
      },
      "outputs": [
        {
          "name": "stdout",
          "output_type": "stream",
          "text": [
            "[[1, 2, 3], [4, 5, 6]]\n"
          ]
        }
      ],
      "source": [
        "#jawaban soal2\n",
        "matriksC= [[1,2,3],[4,5,6]]\n",
        "print(matriksC)"
      ]
    },
    {
      "cell_type": "markdown",
      "metadata": {
        "id": "pxJcloXd_3cN"
      },
      "source": [
        "# SOAL 3\n",
        "Buatlah matriks dengan orde 3x2, dengan nilai adalah:\n",
        "- Baris 1 Kolom 1, nilai = 2\n",
        "- Baris 1 Kolom 2, nilai = 2\n",
        "- Baris 2 Kolom 1, nilai = 2\n",
        "- Baris 2 Kolom 2, nilai = 2\n",
        "- Baris 3 Kolom 1, nilai = 2\n",
        "- Baris 3 Kolom 2, nilai = 2"
      ]
    },
    {
      "cell_type": "code",
      "execution_count": null,
      "metadata": {
        "id": "3kmcCtCi_3cN",
        "outputId": "0fb2c8ea-7eaf-4967-d219-c86c8a5a4ac6"
      },
      "outputs": [
        {
          "name": "stdout",
          "output_type": "stream",
          "text": [
            "[[2, 2], [2, 2], [2, 2]]\n"
          ]
        }
      ],
      "source": [
        "#jawaban soal 3\n",
        "matriks = [[2,2],[2,2],[2,2]]\n",
        "print(matriks)"
      ]
    },
    {
      "cell_type": "markdown",
      "metadata": {
        "id": "k2STm9tc_3cO"
      },
      "source": [
        "# SOAL 4\n",
        "Importlah library Numpy"
      ]
    },
    {
      "cell_type": "code",
      "execution_count": null,
      "metadata": {
        "id": "aXcXPxCw_3cO"
      },
      "outputs": [],
      "source": [
        "import numpy as np"
      ]
    },
    {
      "cell_type": "markdown",
      "metadata": {
        "id": "1xV_3tXC_3cP"
      },
      "source": [
        "# SOAL 5\n",
        "Dengan memanfaatkan library numpy\n",
        "Buatlah matriks dengan menggunakan Library Numpy dengan panjang elemen adalah 32 dan matriks memiliki orde 4x8"
      ]
    },
    {
      "cell_type": "code",
      "execution_count": null,
      "metadata": {
        "id": "2EhyQWnj_3cP",
        "outputId": "70393470-a227-40e1-c7bd-17efbc030f9d"
      },
      "outputs": [
        {
          "name": "stdout",
          "output_type": "stream",
          "text": [
            "[[ 0  1  2  3  4  5  6  7]\n",
            " [ 8  9 10 11 12 13 14 15]\n",
            " [16 17 18 19 20 21 22 23]\n",
            " [24 25 26 27 28 29 30 31]]\n"
          ]
        }
      ],
      "source": [
        "#jawaban 5\n",
        "from numpy import *\n",
        "matriks = range(32)\n",
        "matriks = reshape(matriks, (4,8))\n",
        "print(matriks)"
      ]
    },
    {
      "cell_type": "markdown",
      "metadata": {
        "id": "aP8gFEPx_3cP"
      },
      "source": [
        "# SOAL 6\n",
        "Buatlah matriks dengan menggunakan Library Numpy dengan orde 3x30, dan nilai elemen dimulai dari indeks 1 sampai dengan 5 secara random."
      ]
    },
    {
      "cell_type": "code",
      "execution_count": null,
      "metadata": {
        "id": "oSx703Xj_3cQ",
        "outputId": "73cb05ae-3e18-4a5b-ffc3-2da22591f7f8"
      },
      "outputs": [
        {
          "name": "stdout",
          "output_type": "stream",
          "text": [
            "[[3 4 4 3 4 2 1 3 4 1 2 3 1 3 1 1 1 3 2 1 1 1 1 2 1 1 4 1 1 3]\n",
            " [1 2 1 4 3 3 3 1 3 1 1 1 1 4 4 1 4 1 3 1 2 1 1 1 1 4 4 4 4 1]\n",
            " [2 3 2 4 2 4 1 3 3 1 1 2 4 4 2 3 4 1 4 3 2 1 1 1 4 1 2 4 4 1]]\n"
          ]
        }
      ],
      "source": [
        "#jawaban 6\n",
        "import numpy as np\n",
        "from numpy import *\n",
        "\n",
        "matriks = np.random.randint(1,5,(3,30))\n",
        "print(matriks)\n"
      ]
    }
  ],
  "metadata": {
    "interpreter": {
      "hash": "916dbcbb3f70747c44a77c7bcd40155683ae19c65e1c03b4aa3499c5328201f1"
    },
    "kernelspec": {
      "display_name": "Python 3 (ipykernel)",
      "language": "python",
      "name": "python3"
    },
    "language_info": {
      "codemirror_mode": {
        "name": "ipython",
        "version": 3
      },
      "file_extension": ".py",
      "mimetype": "text/x-python",
      "name": "python",
      "nbconvert_exporter": "python",
      "pygments_lexer": "ipython3",
      "version": "3.12.2"
    },
    "colab": {
      "provenance": []
    }
  },
  "nbformat": 4,
  "nbformat_minor": 0
}